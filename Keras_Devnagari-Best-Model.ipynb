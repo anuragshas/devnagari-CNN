{
 "cells": [
  {
   "cell_type": "code",
   "execution_count": 1,
   "metadata": {},
   "outputs": [
    {
     "name": "stderr",
     "output_type": "stream",
     "text": [
      "C:\\Anaconda3\\lib\\site-packages\\h5py\\__init__.py:36: FutureWarning: Conversion of the second argument of issubdtype from `float` to `np.floating` is deprecated. In future, it will be treated as `np.float64 == np.dtype(float).type`.\n",
      "  from ._conv import register_converters as _register_converters\n",
      "Using TensorFlow backend.\n"
     ]
    }
   ],
   "source": [
    "import numpy as np\n",
    "from keras import layers\n",
    "from keras.layers import Input, Dense, Activation, ZeroPadding2D, BatchNormalization, Flatten, Conv2D\n",
    "from keras.layers import AveragePooling2D, MaxPooling2D, Dropout, GlobalMaxPooling2D, GlobalAveragePooling2D\n",
    "from keras.models import Model\n",
    "from keras.preprocessing.image import ImageDataGenerator\n",
    "from keras.layers.advanced_activations import LeakyReLU\n",
    "from keras.callbacks import EarlyStopping, ModelCheckpoint, TensorBoard\n",
    "from keras.optimizers import SGD, Adam, RMSprop\n",
    "from keras.models import load_model\n",
    "import os\n",
    "import matplotlib.pyplot as plt\n",
    "from matplotlib.pyplot import imshow\n",
    "os.environ['TF_CPP_MIN_LOG_LEVEL']='2'\n",
    "\n",
    "%matplotlib inline"
   ]
  },
  {
   "cell_type": "code",
   "execution_count": 2,
   "metadata": {},
   "outputs": [],
   "source": [
    "n_labels = 46\n",
    "dim = 32\n",
    "model_path = 'dev_new.h5'"
   ]
  },
  {
   "cell_type": "code",
   "execution_count": 3,
   "metadata": {},
   "outputs": [],
   "source": [
    "train_path = 'Train'\n",
    "test_path = 'Test'\n",
    "# imdir = 'test'\n",
    "# if not os.path.isdir(imdir):\n",
    "#     os.mkdir(imdir)\n",
    "\n",
    "labels = [folder for folder in os.listdir('./'+train_path) if 'character_' or 'digit_' in folder]\n",
    "\n",
    "# n = 0\n",
    "# for folder in labels:\n",
    "#     for imfile in os.scandir('./'+test_path+folder):\n",
    "#         os.rename(imfile.path, os.path.join(imdir, '{:06}.png'.format(n)))\n",
    "#         n += 1"
   ]
  },
  {
   "cell_type": "code",
   "execution_count": 4,
   "metadata": {},
   "outputs": [],
   "source": [
    "def MyModel(input_shape):\n",
    "    \"\"\"\n",
    "    Implementation of the MyModel.\n",
    "    \n",
    "    Arguments:\n",
    "    input_shape -- shape of the images of the dataset\n",
    "\n",
    "    Returns:\n",
    "    model -- a Model() instance in Keras\n",
    "    \"\"\"\n",
    "    \n",
    "    X_input = Input(input_shape)\n",
    "\n",
    "    #x = Conv2D(32, (5,5), strides=(1,1), padding='same', name='conv_1', use_bias=False,activation='relu')(X_input)\n",
    "    x = Conv2D(32, (5,5), strides=(1,1), padding='same', name='conv_1', use_bias=False)(X_input)\n",
    "    x = BatchNormalization(name='norm_1')(x)\n",
    "    x = LeakyReLU(alpha=0.1)(x)\n",
    "    x = MaxPooling2D(pool_size=(2, 2))(x)\n",
    "    \n",
    "    #x = Conv2D(64, (5,5), strides=(1,1), padding='same', name='conv_2', use_bias=False,activation='relu')(x)\n",
    "    x = Conv2D(64, (5,5), strides=(1,1), padding='same', name='conv_2', use_bias=False)(x)\n",
    "    x = BatchNormalization(name='norm_2')(x)\n",
    "    x = LeakyReLU(alpha=0.1)(x)\n",
    "    x = MaxPooling2D(pool_size=(2, 2))(x)\n",
    "\n",
    "    # FLATTEN X (means convert it to a vector) + FULLYCONNECTED\n",
    "    x = Flatten()(x)\n",
    "    x = Dense(8*8*64, activation='relu', name='fc')(x)\n",
    "    x = Dense(n_labels, activation='softmax', name='fc_classifier')(x)\n",
    "\n",
    "    # Create model. This creates your Keras model instance, you'll use this instance to train/test the model.\n",
    "    model = Model(inputs = X_input, outputs = x, name='MyModel')\n",
    "    \n",
    "    return model"
   ]
  },
  {
   "cell_type": "code",
   "execution_count": 5,
   "metadata": {},
   "outputs": [],
   "source": [
    "dev_model = MyModel((dim,dim,3))"
   ]
  },
  {
   "cell_type": "code",
   "execution_count": 6,
   "metadata": {},
   "outputs": [
    {
     "name": "stdout",
     "output_type": "stream",
     "text": [
      "_________________________________________________________________\n",
      "Layer (type)                 Output Shape              Param #   \n",
      "=================================================================\n",
      "input_1 (InputLayer)         (None, 32, 32, 3)         0         \n",
      "_________________________________________________________________\n",
      "conv_1 (Conv2D)              (None, 32, 32, 32)        2400      \n",
      "_________________________________________________________________\n",
      "norm_1 (BatchNormalization)  (None, 32, 32, 32)        128       \n",
      "_________________________________________________________________\n",
      "leaky_re_lu_1 (LeakyReLU)    (None, 32, 32, 32)        0         \n",
      "_________________________________________________________________\n",
      "max_pooling2d_1 (MaxPooling2 (None, 16, 16, 32)        0         \n",
      "_________________________________________________________________\n",
      "conv_2 (Conv2D)              (None, 16, 16, 64)        51200     \n",
      "_________________________________________________________________\n",
      "norm_2 (BatchNormalization)  (None, 16, 16, 64)        256       \n",
      "_________________________________________________________________\n",
      "leaky_re_lu_2 (LeakyReLU)    (None, 16, 16, 64)        0         \n",
      "_________________________________________________________________\n",
      "max_pooling2d_2 (MaxPooling2 (None, 8, 8, 64)          0         \n",
      "_________________________________________________________________\n",
      "flatten_1 (Flatten)          (None, 4096)              0         \n",
      "_________________________________________________________________\n",
      "fc (Dense)                   (None, 4096)              16781312  \n",
      "_________________________________________________________________\n",
      "fc_classifier (Dense)        (None, 46)                188462    \n",
      "=================================================================\n",
      "Total params: 17,023,758\n",
      "Trainable params: 17,023,566\n",
      "Non-trainable params: 192\n",
      "_________________________________________________________________\n"
     ]
    }
   ],
   "source": [
    "dev_model.summary()"
   ]
  },
  {
   "cell_type": "code",
   "execution_count": 7,
   "metadata": {},
   "outputs": [
    {
     "name": "stdout",
     "output_type": "stream",
     "text": [
      "Found 62560 images belonging to 46 classes.\n",
      "Found 15640 images belonging to 46 classes.\n"
     ]
    }
   ],
   "source": [
    "img_width, img_height = dim, dim\n",
    "batch_size = 128\n",
    "train_datagen = ImageDataGenerator(\n",
    "        rescale=1./255,\n",
    "        shear_range=0.2,\n",
    "        zoom_range=0.2,\n",
    "        rotation_range=30,\n",
    "        width_shift_range=0.1,\n",
    "        height_shift_range=0.1,\n",
    "        validation_split=0.2)\n",
    "\n",
    "\n",
    "train_generator = train_datagen.flow_from_directory('./Train',\n",
    "                                                    target_size=(img_width, img_height),\n",
    "                                                    batch_size=batch_size,\n",
    "                                                    subset='training',\n",
    "                                                    class_mode='categorical')\n",
    "\n",
    "validation_generator = train_datagen.flow_from_directory('./Train',\n",
    "                                                    target_size=(img_width, img_height),\n",
    "                                                    batch_size=batch_size,\n",
    "                                                    subset='validation',\n",
    "                                                    class_mode='categorical')"
   ]
  },
  {
   "cell_type": "code",
   "execution_count": 8,
   "metadata": {},
   "outputs": [],
   "source": [
    "early_stop = EarlyStopping(monitor='val_loss', \n",
    "                           min_delta=0.0001, \n",
    "                           patience=2, \n",
    "                           mode='min', \n",
    "                           verbose=1)"
   ]
  },
  {
   "cell_type": "code",
   "execution_count": 9,
   "metadata": {},
   "outputs": [],
   "source": [
    "tb_counter  = len([log for log in os.listdir(os.path.expanduser('./logs/')) if 'dev_' in log]) + 1\n",
    "tensorboard = TensorBoard(log_dir=os.path.expanduser('./logs/') + 'dev_' + '_' + str(tb_counter), \n",
    "                          histogram_freq=0, \n",
    "                          write_graph=True, \n",
    "                          write_images=False)\n",
    "optimizer = Adam(lr=0.5e-4, beta_1=0.9, beta_2=0.999, epsilon=1e-08, decay=0.0)"
   ]
  },
  {
   "cell_type": "code",
   "execution_count": 10,
   "metadata": {},
   "outputs": [],
   "source": [
    "dev_model.compile(loss='categorical_crossentropy', optimizer=optimizer, metrics = [\"accuracy\"])"
   ]
  },
  {
   "cell_type": "code",
   "execution_count": 11,
   "metadata": {},
   "outputs": [
    {
     "name": "stdout",
     "output_type": "stream",
     "text": [
      "Epoch 1/50\n",
      "489/489 [==============================] - 197s 402ms/step - loss: 1.6479 - acc: 0.5587 - val_loss: 1.5418 - val_acc: 0.5811\n",
      "Epoch 2/50\n",
      "489/489 [==============================] - 181s 370ms/step - loss: 0.7650 - acc: 0.7890 - val_loss: 1.1376 - val_acc: 0.6779\n",
      "Epoch 3/50\n",
      "489/489 [==============================] - 181s 370ms/step - loss: 0.5118 - acc: 0.8596 - val_loss: 0.8877 - val_acc: 0.7429\n",
      "Epoch 4/50\n",
      "489/489 [==============================] - 182s 372ms/step - loss: 0.3863 - acc: 0.8926 - val_loss: 0.7968 - val_acc: 0.7707\n",
      "Epoch 5/50\n",
      "489/489 [==============================] - 181s 370ms/step - loss: 0.3061 - acc: 0.9160 - val_loss: 0.6922 - val_acc: 0.7990\n",
      "Epoch 6/50\n",
      "489/489 [==============================] - 181s 370ms/step - loss: 0.2593 - acc: 0.9270 - val_loss: 0.6271 - val_acc: 0.8187\n",
      "Epoch 7/50\n",
      "489/489 [==============================] - 181s 370ms/step - loss: 0.2225 - acc: 0.9371 - val_loss: 0.6096 - val_acc: 0.8208\n",
      "Epoch 8/50\n",
      "489/489 [==============================] - 181s 371ms/step - loss: 0.1982 - acc: 0.9432 - val_loss: 0.6529 - val_acc: 0.8125\n",
      "Epoch 9/50\n",
      "489/489 [==============================] - 181s 370ms/step - loss: 0.1762 - acc: 0.9493 - val_loss: 0.5292 - val_acc: 0.8414\n",
      "Epoch 10/50\n",
      "489/489 [==============================] - 181s 371ms/step - loss: 0.1628 - acc: 0.9527 - val_loss: 0.5271 - val_acc: 0.8488\n",
      "Epoch 11/50\n",
      "489/489 [==============================] - 181s 370ms/step - loss: 0.1507 - acc: 0.9559 - val_loss: 0.5522 - val_acc: 0.8380\n",
      "Epoch 12/50\n",
      "489/489 [==============================] - 181s 370ms/step - loss: 0.1379 - acc: 0.9596 - val_loss: 0.5245 - val_acc: 0.8528\n",
      "Epoch 13/50\n",
      "489/489 [==============================] - 181s 370ms/step - loss: 0.1273 - acc: 0.9625 - val_loss: 0.5346 - val_acc: 0.8453\n",
      "Epoch 14/50\n",
      "489/489 [==============================] - 181s 370ms/step - loss: 0.1218 - acc: 0.9643 - val_loss: 0.4967 - val_acc: 0.8582\n",
      "Epoch 15/50\n",
      "489/489 [==============================] - 181s 371ms/step - loss: 0.1108 - acc: 0.9677 - val_loss: 0.4498 - val_acc: 0.8671\n",
      "Epoch 16/50\n",
      "489/489 [==============================] - 181s 370ms/step - loss: 0.1064 - acc: 0.9682 - val_loss: 0.5108 - val_acc: 0.8590\n",
      "Epoch 17/50\n",
      "489/489 [==============================] - 181s 371ms/step - loss: 0.1009 - acc: 0.9706 - val_loss: 0.4643 - val_acc: 0.8655\n",
      "Epoch 00017: early stopping\n"
     ]
    }
   ],
   "source": [
    "history = dev_model.fit_generator(train_generator,\n",
    "              epochs=50,\n",
    "              validation_data=validation_generator,\n",
    "              callbacks = [early_stop])"
   ]
  },
  {
   "cell_type": "code",
   "execution_count": 12,
   "metadata": {},
   "outputs": [
    {
     "data": {
      "image/png": "[encoded data removed]",
      "text/plain": [
       "<Figure size 432x288 with 1 Axes>"
      ]
     },
     "metadata": {},
     "output_type": "display_data"
    }
   ],
   "source": [
    "plt.plot(history.history[\"loss\"],color = 'red', label = 'Loss')\n",
    "plt.plot(history.history[\"val_loss\"],color = 'blue', label = 'Validation Loss')\n",
    "plt.title('Loss Comparison')\n",
    "plt.xlabel('Epoch')\n",
    "plt.ylabel('Values')\n",
    "plt.legend()\n",
    "plt.show()"
   ]
  },
  {
   "cell_type": "code",
   "execution_count": 13,
   "metadata": {},
   "outputs": [
    {
     "data": {
      "image/png": "[encoded data removed]",
      "text/plain": [
       "<Figure size 432x288 with 1 Axes>"
      ]
     },
     "metadata": {},
     "output_type": "display_data"
    }
   ],
   "source": [
    "plt.plot(history.history[\"acc\"],color = 'red', label = 'Accuracy')\n",
    "plt.plot(history.history[\"val_acc\"],color = 'blue', label = 'Validation Accuracy')\n",
    "plt.title('Accuracy Comparison')\n",
    "plt.xlabel('Epoch')\n",
    "plt.ylabel('Values')\n",
    "plt.legend()\n",
    "plt.show()"
   ]
  },
  {
   "cell_type": "code",
   "execution_count": 14,
   "metadata": {},
   "outputs": [],
   "source": [
    "dev_model.save(model_path)"
   ]
  },
  {
   "cell_type": "code",
   "execution_count": 15,
   "metadata": {},
   "outputs": [],
   "source": [
    "dev_model = load_model(model_path)"
   ]
  },
  {
   "cell_type": "code",
   "execution_count": 38,
   "metadata": {},
   "outputs": [
    {
     "name": "stdout",
     "output_type": "stream",
     "text": [
      "character_25_ma: 98.92%\n"
     ]
    },
    {
     "data": {
      "image/png": "[encoded data removed]",
      "text/plain": [
       "<Figure size 432x288 with 1 Axes>"
      ]
     },
     "metadata": {},
     "output_type": "display_data"
    }
   ],
   "source": [
    "import cv2\n",
    "import random\n",
    "import re\n",
    "from keras.preprocessing.image import img_to_array\n",
    "n= random.randint(0,13799)\n",
    "test_image = cv2.imread('./test/'+'{:06}.png'.format(n))\n",
    "input_image = cv2.resize(test_image, (dim, dim))\n",
    "plt_image = input_image\n",
    "input_image = input_image.astype(\"float\") / 255.0\n",
    "input_image = img_to_array(input_image)\n",
    "input_image = np.expand_dims(input_image, 0)\n",
    "results = dev_model.predict(input_image)\n",
    "label = \"{}: {:.2f}%\".format(labels[np.argmax(results)], results[0,np.argmax(results)] * 100)\n",
    "print(label)\n",
    "plt.imshow(plt_image); plt.show()"
   ]
  }
 ],
 "metadata": {
  "kernelspec": {
   "display_name": "Python 3",
   "language": "python",
   "name": "python3"
  },
  "language_info": {
   "codemirror_mode": {
    "name": "ipython",
    "version": 3
   },
   "file_extension": ".py",
   "mimetype": "text/x-python",
   "name": "python",
   "nbconvert_exporter": "python",
   "pygments_lexer": "ipython3",
   "version": "3.6.5"
  }
 },
 "nbformat": 4,
 "nbformat_minor": 2
}
